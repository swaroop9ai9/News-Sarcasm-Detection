{
 "cells": [
  {
   "cell_type": "markdown",
   "metadata": {
    "colab_type": "text",
    "id": "Eukag7wEoPZu"
   },
   "source": [
    "### Package Version:\n",
    "- tensorflow==2.2.0\n",
    "- pandas==1.0.5\n",
    "- numpy==1.18.5\n",
    "- google==2.0.3"
   ]
  },
  {
   "cell_type": "markdown",
   "metadata": {
    "colab_type": "text",
    "id": "pp68FAQf9aMN"
   },
   "source": [
    "# Sarcasm Detection"
   ]
  },
  {
   "cell_type": "markdown",
   "metadata": {
    "colab_type": "text",
    "id": "bEahVPtWX5ve"
   },
   "source": [
    "### Dataset\n",
    "\n",
    "#### Acknowledgement\n",
    "Misra, Rishabh, and Prahal Arora. \"Sarcasm Detection using Hybrid Neural Network.\" arXiv preprint arXiv:1908.07414 (2019).\n",
    "\n",
    "**Required Files given in below link.**\n",
    "\n",
    "https://drive.google.com/drive/folders/1xUnF35naPGU63xwRDVGc-DkZ3M8V5mMk"
   ]
  },
  {
   "cell_type": "code",
   "execution_count": 1,
   "metadata": {
    "colab": {
     "base_uri": "https://localhost:8080/",
     "height": 223
    },
    "colab_type": "code",
    "id": "IHXIPrrRZ4DG",
    "outputId": "b8a57cea-61fb-4668-a865-e0f7c0cfa6a3"
   },
   "outputs": [
    {
     "name": "stderr",
     "output_type": "stream",
     "text": [
      "/usr/local/lib/python3.6/dist-packages/statsmodels/tools/_testing.py:19: FutureWarning: pandas.util.testing is deprecated. Use the functions in the public API at pandas.testing instead.\n",
      "  import pandas.util.testing as tm\n"
     ]
    },
    {
     "name": "stdout",
     "output_type": "stream",
     "text": [
      "Go to this URL in a browser: https://accounts.google.com/o/oauth2/auth?client_id=947318989803-6bn6qk8qdgf4n4g3pfee6491hc0brc4i.apps.googleusercontent.com&redirect_uri=urn%3aietf%3awg%3aoauth%3a2.0%3aoob&response_type=code&scope=email%20https%3a%2f%2fwww.googleapis.com%2fauth%2fdocs.test%20https%3a%2f%2fwww.googleapis.com%2fauth%2fdrive%20https%3a%2f%2fwww.googleapis.com%2fauth%2fdrive.photos.readonly%20https%3a%2f%2fwww.googleapis.com%2fauth%2fpeopleapi.readonly\n",
      "\n",
      "Enter your authorization code:\n",
      "··········\n",
      "Mounted at /content/gdrive\n"
     ]
    }
   ],
   "source": [
    "import numpy as np\n",
    "import pandas as pd\n",
    "import seaborn as sns\n",
    "import matplotlib.pyplot as plt\n",
    "import nltk\n",
    "from sklearn.preprocessing import LabelBinarizer\n",
    "from nltk.corpus import stopwords\n",
    "from nltk.stem.porter import PorterStemmer\n",
    "from wordcloud import WordCloud,STOPWORDS\n",
    "from nltk.stem import WordNetLemmatizer\n",
    "from nltk.tokenize import word_tokenize,sent_tokenize\n",
    "from bs4 import BeautifulSoup\n",
    "import re,string,unicodedata\n",
    "from keras.preprocessing import text, sequence\n",
    "from sklearn.metrics import classification_report,confusion_matrix,accuracy_score\n",
    "from sklearn.model_selection import train_test_split\n",
    "from string import punctuation\n",
    "import keras\n",
    "from keras.models import Sequential\n",
    "from keras.layers import Dense,Embedding,LSTM,Dropout,Bidirectional,GRU\n",
    "import tensorflow as tf\n",
    "from google.colab import drive\n",
    "drive.mount('/content/gdrive')"
   ]
  },
  {
   "cell_type": "code",
   "execution_count": 2,
   "metadata": {
    "colab": {
     "base_uri": "https://localhost:8080/",
     "height": 476
    },
    "colab_type": "code",
    "id": "C8-avsQCGawm",
    "outputId": "16ee26fd-402e-40d0-b729-61fd671e8ff4"
   },
   "outputs": [
    {
     "data": {
      "text/plain": [
       "[name: \"/device:CPU:0\"\n",
       " device_type: \"CPU\"\n",
       " memory_limit: 268435456\n",
       " locality {\n",
       " }\n",
       " incarnation: 1566519454830722482, name: \"/device:XLA_CPU:0\"\n",
       " device_type: \"XLA_CPU\"\n",
       " memory_limit: 17179869184\n",
       " locality {\n",
       " }\n",
       " incarnation: 14906342346190106286\n",
       " physical_device_desc: \"device: XLA_CPU device\", name: \"/device:XLA_GPU:0\"\n",
       " device_type: \"XLA_GPU\"\n",
       " memory_limit: 17179869184\n",
       " locality {\n",
       " }\n",
       " incarnation: 14545714928935160324\n",
       " physical_device_desc: \"device: XLA_GPU device\", name: \"/device:GPU:0\"\n",
       " device_type: \"GPU\"\n",
       " memory_limit: 14640891840\n",
       " locality {\n",
       "   bus_id: 1\n",
       "   links {\n",
       "   }\n",
       " }\n",
       " incarnation: 2691032843732354999\n",
       " physical_device_desc: \"device: 0, name: Tesla T4, pci bus id: 0000:00:04.0, compute capability: 7.5\"]"
      ]
     },
     "execution_count": 2,
     "metadata": {
      "tags": []
     },
     "output_type": "execute_result"
    }
   ],
   "source": [
    "from tensorflow.python.client import device_lib\n",
    "device_lib.list_local_devices()"
   ]
  },
  {
   "cell_type": "markdown",
   "metadata": {
    "colab_type": "text",
    "id": "vAk6BRUh8CqL"
   },
   "source": [
    "### Load Data (3 Marks)"
   ]
  },
  {
   "cell_type": "code",
   "execution_count": 3,
   "metadata": {
    "colab": {},
    "colab_type": "code",
    "id": "v8-PQsV0DrAZ"
   },
   "outputs": [],
   "source": [
    "Data  = pd.read_json('gdrive/My Drive/DATA/Sarcasm_Headlines_Dataset.json',lines=True)"
   ]
  },
  {
   "cell_type": "code",
   "execution_count": 4,
   "metadata": {
    "colab": {
     "base_uri": "https://localhost:8080/",
     "height": 187
    },
    "colab_type": "code",
    "id": "4E22rUAacjkm",
    "outputId": "6727597a-6a6a-4886-ac68-68ffcc2d45e7"
   },
   "outputs": [
    {
     "name": "stdout",
     "output_type": "stream",
     "text": [
      "<class 'pandas.core.frame.DataFrame'>\n",
      "RangeIndex: 28619 entries, 0 to 28618\n",
      "Data columns (total 3 columns):\n",
      " #   Column        Non-Null Count  Dtype \n",
      "---  ------        --------------  ----- \n",
      " 0   is_sarcastic  28619 non-null  int64 \n",
      " 1   headline      28619 non-null  object\n",
      " 2   article_link  28619 non-null  object\n",
      "dtypes: int64(1), object(2)\n",
      "memory usage: 670.9+ KB\n"
     ]
    }
   ],
   "source": [
    "Data.info()"
   ]
  },
  {
   "cell_type": "code",
   "execution_count": 5,
   "metadata": {
    "colab": {
     "base_uri": "https://localhost:8080/",
     "height": 359
    },
    "colab_type": "code",
    "id": "eNjQ9vDWcP96",
    "outputId": "613f0044-e8e9-48c6-c149-a7a373d4e80f"
   },
   "outputs": [
    {
     "data": {
      "text/html": [
       "<div>\n",
       "<style scoped>\n",
       "    .dataframe tbody tr th:only-of-type {\n",
       "        vertical-align: middle;\n",
       "    }\n",
       "\n",
       "    .dataframe tbody tr th {\n",
       "        vertical-align: top;\n",
       "    }\n",
       "\n",
       "    .dataframe thead th {\n",
       "        text-align: right;\n",
       "    }\n",
       "</style>\n",
       "<table border=\"1\" class=\"dataframe\">\n",
       "  <thead>\n",
       "    <tr style=\"text-align: right;\">\n",
       "      <th></th>\n",
       "      <th>is_sarcastic</th>\n",
       "      <th>headline</th>\n",
       "      <th>article_link</th>\n",
       "    </tr>\n",
       "  </thead>\n",
       "  <tbody>\n",
       "    <tr>\n",
       "      <th>0</th>\n",
       "      <td>1</td>\n",
       "      <td>thirtysomething scientists unveil doomsday clo...</td>\n",
       "      <td>https://www.theonion.com/thirtysomething-scien...</td>\n",
       "    </tr>\n",
       "    <tr>\n",
       "      <th>1</th>\n",
       "      <td>0</td>\n",
       "      <td>dem rep. totally nails why congress is falling...</td>\n",
       "      <td>https://www.huffingtonpost.com/entry/donna-edw...</td>\n",
       "    </tr>\n",
       "    <tr>\n",
       "      <th>2</th>\n",
       "      <td>0</td>\n",
       "      <td>eat your veggies: 9 deliciously different recipes</td>\n",
       "      <td>https://www.huffingtonpost.com/entry/eat-your-...</td>\n",
       "    </tr>\n",
       "    <tr>\n",
       "      <th>3</th>\n",
       "      <td>1</td>\n",
       "      <td>inclement weather prevents liar from getting t...</td>\n",
       "      <td>https://local.theonion.com/inclement-weather-p...</td>\n",
       "    </tr>\n",
       "    <tr>\n",
       "      <th>4</th>\n",
       "      <td>1</td>\n",
       "      <td>mother comes pretty close to using word 'strea...</td>\n",
       "      <td>https://www.theonion.com/mother-comes-pretty-c...</td>\n",
       "    </tr>\n",
       "    <tr>\n",
       "      <th>5</th>\n",
       "      <td>0</td>\n",
       "      <td>my white inheritance</td>\n",
       "      <td>https://www.huffingtonpost.com/entry/my-white-...</td>\n",
       "    </tr>\n",
       "    <tr>\n",
       "      <th>6</th>\n",
       "      <td>0</td>\n",
       "      <td>5 ways to file your taxes with less stress</td>\n",
       "      <td>https://www.huffingtonpost.com/entry/5-ways-to...</td>\n",
       "    </tr>\n",
       "    <tr>\n",
       "      <th>7</th>\n",
       "      <td>1</td>\n",
       "      <td>richard branson's global-warming donation near...</td>\n",
       "      <td>https://www.theonion.com/richard-bransons-glob...</td>\n",
       "    </tr>\n",
       "    <tr>\n",
       "      <th>8</th>\n",
       "      <td>1</td>\n",
       "      <td>shadow government getting too large to meet in...</td>\n",
       "      <td>https://politics.theonion.com/shadow-governmen...</td>\n",
       "    </tr>\n",
       "    <tr>\n",
       "      <th>9</th>\n",
       "      <td>0</td>\n",
       "      <td>lots of parents know this scenario</td>\n",
       "      <td>https://www.huffingtonpost.comhttp://pubx.co/6...</td>\n",
       "    </tr>\n",
       "  </tbody>\n",
       "</table>\n",
       "</div>"
      ],
      "text/plain": [
       "   is_sarcastic  ...                                       article_link\n",
       "0             1  ...  https://www.theonion.com/thirtysomething-scien...\n",
       "1             0  ...  https://www.huffingtonpost.com/entry/donna-edw...\n",
       "2             0  ...  https://www.huffingtonpost.com/entry/eat-your-...\n",
       "3             1  ...  https://local.theonion.com/inclement-weather-p...\n",
       "4             1  ...  https://www.theonion.com/mother-comes-pretty-c...\n",
       "5             0  ...  https://www.huffingtonpost.com/entry/my-white-...\n",
       "6             0  ...  https://www.huffingtonpost.com/entry/5-ways-to...\n",
       "7             1  ...  https://www.theonion.com/richard-bransons-glob...\n",
       "8             1  ...  https://politics.theonion.com/shadow-governmen...\n",
       "9             0  ...  https://www.huffingtonpost.comhttp://pubx.co/6...\n",
       "\n",
       "[10 rows x 3 columns]"
      ]
     },
     "execution_count": 5,
     "metadata": {
      "tags": []
     },
     "output_type": "execute_result"
    }
   ],
   "source": [
    "Data.head(10)"
   ]
  },
  {
   "cell_type": "markdown",
   "metadata": {
    "colab_type": "text",
    "id": "z6pXf7A78E2H"
   },
   "source": [
    "### Drop `article_link` from dataset (3 Marks)"
   ]
  },
  {
   "cell_type": "code",
   "execution_count": 6,
   "metadata": {
    "colab": {},
    "colab_type": "code",
    "id": "-WUNHq5zEV0n"
   },
   "outputs": [],
   "source": [
    "Data.drop(['article_link'],axis=1,inplace=True)"
   ]
  },
  {
   "cell_type": "code",
   "execution_count": 7,
   "metadata": {
    "colab": {
     "base_uri": "https://localhost:8080/",
     "height": 170
    },
    "colab_type": "code",
    "id": "PpYwvFW6chZL",
    "outputId": "b0f85d4c-6916-4fc6-f2bb-4c0449cace48"
   },
   "outputs": [
    {
     "name": "stdout",
     "output_type": "stream",
     "text": [
      "<class 'pandas.core.frame.DataFrame'>\n",
      "RangeIndex: 28619 entries, 0 to 28618\n",
      "Data columns (total 2 columns):\n",
      " #   Column        Non-Null Count  Dtype \n",
      "---  ------        --------------  ----- \n",
      " 0   is_sarcastic  28619 non-null  int64 \n",
      " 1   headline      28619 non-null  object\n",
      "dtypes: int64(1), object(1)\n",
      "memory usage: 447.3+ KB\n"
     ]
    }
   ],
   "source": [
    "Data.info()"
   ]
  },
  {
   "cell_type": "code",
   "execution_count": 8,
   "metadata": {
    "colab": {
     "base_uri": "https://localhost:8080/",
     "height": 297
    },
    "colab_type": "code",
    "id": "iVgS2yeVcwZn",
    "outputId": "d4994bcb-f0a7-47e3-d9ed-990dedde337f"
   },
   "outputs": [
    {
     "data": {
      "text/plain": [
       "<matplotlib.axes._subplots.AxesSubplot at 0x7f4ab98e5358>"
      ]
     },
     "execution_count": 8,
     "metadata": {
      "tags": []
     },
     "output_type": "execute_result"
    },
    {
     "data": {
      "image/png": "[encoded data removed]",
      "text/plain": [
       "<Figure size 432x288 with 1 Axes>"
      ]
     },
     "metadata": {
      "tags": []
     },
     "output_type": "display_data"
    }
   ],
   "source": [
    "# Verifying the output balance in dataset\n",
    "sns.set_style(\"ticks\")\n",
    "sns.countplot(Data.is_sarcastic)"
   ]
  },
  {
   "cell_type": "markdown",
   "metadata": {
    "colab_type": "text",
    "id": "D0h6IOxU8OdH"
   },
   "source": [
    "### Get length of each headline and add a column for that (3 Marks)"
   ]
  },
  {
   "cell_type": "code",
   "execution_count": 9,
   "metadata": {
    "colab": {
     "base_uri": "https://localhost:8080/",
     "height": 51
    },
    "colab_type": "code",
    "id": "CODswxH_w4DJ",
    "outputId": "ea796f1f-d0ba-4a03-9a59-189ea784d39b"
   },
   "outputs": [
    {
     "name": "stdout",
     "output_type": "stream",
     "text": [
      "[nltk_data] Downloading package stopwords to /root/nltk_data...\n",
      "[nltk_data]   Unzipping corpora/stopwords.zip.\n"
     ]
    }
   ],
   "source": [
    "# Data Cleaning\n",
    "nltk.download('stopwords')\n",
    "stop = set(stopwords.words('english'))\n",
    "punctuation = list(string.punctuation)\n",
    "stop.update(punctuation)"
   ]
  },
  {
   "cell_type": "code",
   "execution_count": 10,
   "metadata": {
    "colab": {},
    "colab_type": "code",
    "id": "QGPzCdyTxJze"
   },
   "outputs": [],
   "source": [
    "def strip_html(text):\n",
    "    soup = BeautifulSoup(text, \"html.parser\")\n",
    "    return soup.get_text()\n",
    "\n",
    "#Removing the square brackets\n",
    "def remove_between_square_brackets(text):\n",
    "    return re.sub('\\[[^]]*\\]', '', text)\n",
    "# Removing URL's\n",
    "def remove_between_square_brackets(text):\n",
    "    return re.sub(r'http\\S+', '', text)\n",
    "#Removing the stopwords from text\n",
    "def remove_stopwords(text):\n",
    "    final_text = []\n",
    "    for i in text.split():\n",
    "        if i.strip().lower() not in stop:\n",
    "            final_text.append(i.strip())\n",
    "    return \" \".join(final_text)\n",
    "#Removing the noisy text\n",
    "def denoise_text(text):\n",
    "    text = strip_html(text)\n",
    "    text = remove_between_square_brackets(text)\n",
    "    text = remove_stopwords(text)\n",
    "    return text\n",
    "#Apply function on review column\n",
    "Data['headline'] = Data['headline'].apply(denoise_text)"
   ]
  },
  {
   "cell_type": "code",
   "execution_count": 11,
   "metadata": {
    "colab": {
     "base_uri": "https://localhost:8080/",
     "height": 356
    },
    "colab_type": "code",
    "id": "MLpiBRDmEV2l",
    "outputId": "4cf8be15-be77-4e7d-cc0c-9b87204b7e5a"
   },
   "outputs": [
    {
     "data": {
      "image/png": "[encoded data removed]",
      "text/plain": [
       "<Figure size 720x360 with 2 Axes>"
      ]
     },
     "metadata": {
      "tags": []
     },
     "output_type": "display_data"
    }
   ],
   "source": [
    "# Number of charecters in text\n",
    "fig,(ax1,ax2)=plt.subplots(1,2,figsize=(10,5))\n",
    "text_len=Data[Data['is_sarcastic']==1]['headline'].str.len()\n",
    "ax1.hist(text_len,color='grey')\n",
    "ax1.set_title('Sarcastic text')\n",
    "text_len=Data[Data['is_sarcastic']==0]['headline'].str.len()\n",
    "ax2.hist(text_len,color='blue')\n",
    "ax2.set_title('Not Sarcastic text')\n",
    "fig.suptitle('Characters in texts')\n",
    "plt.show()"
   ]
  },
  {
   "cell_type": "code",
   "execution_count": 12,
   "metadata": {
    "colab": {
     "base_uri": "https://localhost:8080/",
     "height": 356
    },
    "colab_type": "code",
    "id": "UaT-fWZLd41Y",
    "outputId": "23f944f6-c85a-418f-8da4-67b2fc4adb52"
   },
   "outputs": [
    {
     "data": {
      "image/png": "[encoded data removed]",
      "text/plain": [
       "<Figure size 720x360 with 2 Axes>"
      ]
     },
     "metadata": {
      "tags": []
     },
     "output_type": "display_data"
    }
   ],
   "source": [
    "# Number of words in text\n",
    "fig,(ax1,ax2)=plt.subplots(1,2,figsize=(10,5))\n",
    "text_len= Data[Data['is_sarcastic']==1]['headline'].str.split().map(lambda x: len(x))\n",
    "ax1.hist(text_len,color='grey')\n",
    "ax1.set_title('Sarcastic text')\n",
    "text_len=Data[Data['is_sarcastic']==0]['headline'].str.split().map(lambda x: len(x))\n",
    "ax2.hist(text_len,color='blue')\n",
    "ax2.set_title('Not Sarcastic text')\n",
    "fig.suptitle('Words in texts')\n",
    "plt.show()"
   ]
  },
  {
   "cell_type": "code",
   "execution_count": 13,
   "metadata": {
    "colab": {
     "base_uri": "https://localhost:8080/",
     "height": 694
    },
    "colab_type": "code",
    "id": "U11vDXaYeH6L",
    "outputId": "7ae94b8e-8c77-4bb1-8259-389d594fc7fa"
   },
   "outputs": [
    {
     "data": {
      "text/plain": [
       "Text(0.5, 0.98, 'Average word length in each text')"
      ]
     },
     "execution_count": 13,
     "metadata": {
      "tags": []
     },
     "output_type": "execute_result"
    },
    {
     "data": {
      "image/png": "[encoded data removed]",
      "text/plain": [
       "<Figure size 1440x720 with 2 Axes>"
      ]
     },
     "metadata": {
      "tags": []
     },
     "output_type": "display_data"
    }
   ],
   "source": [
    "# Average word length in text\n",
    "fig,(ax1,ax2)=plt.subplots(1,2,figsize=(20,10))\n",
    "word= Data[Data['is_sarcastic']==1]['headline'].str.split().apply(lambda x : [len(i) for i in x])\n",
    "sns.distplot(word.map(lambda x: np.mean(x)),ax=ax1,color='grey')\n",
    "ax1.set_title('Sarcastic text')\n",
    "word= Data[Data['is_sarcastic']==0]['headline'].str.split().apply(lambda x : [len(i) for i in x])\n",
    "sns.distplot(word.map(lambda x: np.mean(x)),ax=ax2,color='blue')\n",
    "ax2.set_title('Not Sarcastic text')\n",
    "fig.suptitle('Average word length in each text')"
   ]
  },
  {
   "cell_type": "markdown",
   "metadata": {
    "colab_type": "text",
    "id": "SMF-wjJ2aMwm"
   },
   "source": [
    "### Initialize parameter values\n",
    "- Set values for max_features, maxlen, & embedding_size\n",
    "- max_features: Number of words to take from tokenizer(most frequent words)\n",
    "- maxlen: Maximum length of each sentence to be limited to 25\n",
    "- embedding_size: size of embedding vector"
   ]
  },
  {
   "cell_type": "code",
   "execution_count": 14,
   "metadata": {
    "colab": {},
    "colab_type": "code",
    "id": "jPw9gAN_EV6m"
   },
   "outputs": [],
   "source": [
    "max_features = 10000\n",
    "maxlen = 25\n",
    "embedding_size = 200"
   ]
  },
  {
   "cell_type": "markdown",
   "metadata": {
    "colab_type": "text",
    "id": "9abSe-bM8fn9"
   },
   "source": [
    "### Apply `tensorflow.keras` Tokenizer and get indices for words (3 Marks)\n",
    "- Initialize Tokenizer object with number of words as 10000\n",
    "- Fit the tokenizer object on headline column\n",
    "- Convert the text to sequence\n"
   ]
  },
  {
   "cell_type": "code",
   "execution_count": 15,
   "metadata": {
    "colab": {
     "base_uri": "https://localhost:8080/",
     "height": 476
    },
    "colab_type": "code",
    "id": "y8g4l0KfF3eh",
    "outputId": "0c6e34a9-33f5-46bd-c20a-7cbf68c255ed"
   },
   "outputs": [
    {
     "data": {
      "text/plain": [
       "[['thirtysomething',\n",
       "  'scientists',\n",
       "  'unveil',\n",
       "  'doomsday',\n",
       "  'clock',\n",
       "  'hair',\n",
       "  'loss'],\n",
       " ['dem',\n",
       "  'rep.',\n",
       "  'totally',\n",
       "  'nails',\n",
       "  'congress',\n",
       "  'falling',\n",
       "  'short',\n",
       "  'gender,',\n",
       "  'racial',\n",
       "  'equality'],\n",
       " ['eat', 'veggies:', '9', 'deliciously', 'different', 'recipes'],\n",
       " ['inclement', 'weather', 'prevents', 'liar', 'getting', 'work'],\n",
       " ['mother',\n",
       "  'comes',\n",
       "  'pretty',\n",
       "  'close',\n",
       "  'using',\n",
       "  'word',\n",
       "  \"'streaming'\",\n",
       "  'correctly']]"
      ]
     },
     "execution_count": 15,
     "metadata": {
      "tags": []
     },
     "output_type": "execute_result"
    }
   ],
   "source": [
    "words = []\n",
    "for i in Data.headline.values:\n",
    "    words.append(i.split())\n",
    "words[:5]"
   ]
  },
  {
   "cell_type": "code",
   "execution_count": 16,
   "metadata": {
    "colab": {},
    "colab_type": "code",
    "id": "Jdkmrhtdg4my"
   },
   "outputs": [],
   "source": [
    "import gensim\n",
    "#Dimension of vectors we are generating\n",
    "EMBEDDING_DIM = 200\n",
    "\n",
    "#Creating Word Vectors by Word2Vec Method (takes time...)\n",
    "w2v_model = gensim.models.Word2Vec(sentences = words , size=EMBEDDING_DIM , window = 5 , min_count = 1)"
   ]
  },
  {
   "cell_type": "code",
   "execution_count": 17,
   "metadata": {
    "colab": {
     "base_uri": "https://localhost:8080/",
     "height": 34
    },
    "colab_type": "code",
    "id": "rdQVx9Ejg7Ma",
    "outputId": "480b399e-7ee4-4989-b911-09ea9c6506b7"
   },
   "outputs": [
    {
     "data": {
      "text/plain": [
       "38071"
      ]
     },
     "execution_count": 17,
     "metadata": {
      "tags": []
     },
     "output_type": "execute_result"
    }
   ],
   "source": [
    "#vocab size\n",
    "len(w2v_model.wv.vocab)\n",
    "#We have now represented each of 38071 words by a 100dim vector."
   ]
  },
  {
   "cell_type": "code",
   "execution_count": 18,
   "metadata": {
    "colab": {},
    "colab_type": "code",
    "id": "yS0wCtWyhG3y"
   },
   "outputs": [],
   "source": [
    "tokenizer = text.Tokenizer(num_words=35000)\n",
    "tokenizer.fit_on_texts(words)\n",
    "tokenized_train = tokenizer.texts_to_sequences(words)\n"
   ]
  },
  {
   "cell_type": "markdown",
   "metadata": {
    "colab_type": "text",
    "id": "xeZpwPO4bOkZ"
   },
   "source": [
    "### Pad sequences (3 Marks)\n",
    "- Pad each example with a maximum length\n",
    "- Convert target column into numpy array"
   ]
  },
  {
   "cell_type": "code",
   "execution_count": 19,
   "metadata": {
    "colab": {},
    "colab_type": "code",
    "id": "qV0K70E5c9Xl"
   },
   "outputs": [],
   "source": [
    "x = sequence.pad_sequences(tokenized_train, maxlen = 20)\n",
    "# Adding 1 because of reserved 0 index\n",
    "# Embedding Layer creates one more vector for \"UNKNOWN\" words, or padded words (0s). This Vector is filled with zeros.\n",
    "# Thus our vocab size inceeases by 1\n",
    "vocab_size = len(tokenizer.word_index) + 1"
   ]
  },
  {
   "cell_type": "code",
   "execution_count": 20,
   "metadata": {
    "colab": {},
    "colab_type": "code",
    "id": "l6iafA8Ix18s"
   },
   "outputs": [],
   "source": [
    "# Function to create weight matrix from word2vec gensim model\n",
    "def get_weight_matrix(model, vocab):\n",
    "    # total vocabulary size plus 0 for unknown words\n",
    "    vocab_size = len(vocab) + 1\n",
    "    # define weight matrix dimensions with all 0\n",
    "    weight_matrix = np.zeros((vocab_size, EMBEDDING_DIM))\n",
    "    # step vocab, store vectors using the Tokenizer's integer mapping\n",
    "    for word, i in vocab.items():\n",
    "        weight_matrix[i] = model[word]\n",
    "    return weight_matrix"
   ]
  },
  {
   "cell_type": "code",
   "execution_count": 21,
   "metadata": {
    "colab": {
     "base_uri": "https://localhost:8080/",
     "height": 91
    },
    "colab_type": "code",
    "id": "Hiny15rKiUEW",
    "outputId": "59a0dda4-168f-41db-f38e-e81c2e2271da"
   },
   "outputs": [
    {
     "name": "stderr",
     "output_type": "stream",
     "text": [
      "/usr/local/lib/python3.6/dist-packages/ipykernel_launcher.py:9: DeprecationWarning: Call to deprecated `__getitem__` (Method will be removed in 4.0.0, use self.wv.__getitem__() instead).\n",
      "  if __name__ == '__main__':\n"
     ]
    }
   ],
   "source": [
    "#Getting embedding vectors from word2vec and usings it as weights of non-trainable keras embedding layer\n",
    "embedding_vectors = get_weight_matrix(w2v_model, tokenizer.word_index)"
   ]
  },
  {
   "cell_type": "markdown",
   "metadata": {
    "colab_type": "text",
    "id": "WJLyKg-98rH_"
   },
   "source": [
    "### Vocab mapping\n",
    "- There is no word for 0th index"
   ]
  },
  {
   "cell_type": "code",
   "execution_count": 22,
   "metadata": {
    "colab": {
     "base_uri": "https://localhost:8080/",
     "height": 1000
    },
    "colab_type": "code",
    "id": "vCNgtnQqdbZn",
    "outputId": "260aeeed-5e38-4261-a243-6391d92124ff"
   },
   "outputs": [
    {
     "data": {
      "text/plain": [
       "{'new': 1,\n",
       " 'man': 2,\n",
       " 'trump': 3,\n",
       " 'one': 4,\n",
       " 'area': 5,\n",
       " 'woman': 6,\n",
       " 'says': 7,\n",
       " 'donald': 8,\n",
       " 'report:': 9,\n",
       " 'u.s.': 10,\n",
       " 'day': 11,\n",
       " 'like': 12,\n",
       " 'get': 13,\n",
       " 'first': 14,\n",
       " 'time': 15,\n",
       " \"trump's\": 16,\n",
       " 'people': 17,\n",
       " 'still': 18,\n",
       " 'house': 19,\n",
       " 'white': 20,\n",
       " 'make': 21,\n",
       " 'life': 22,\n",
       " 'obama': 23,\n",
       " 'back': 24,\n",
       " 'women': 25,\n",
       " 'could': 26,\n",
       " 'clinton': 27,\n",
       " 'americans': 28,\n",
       " 'way': 29,\n",
       " 'world': 30,\n",
       " 'family': 31,\n",
       " 'would': 32,\n",
       " 'gop': 33,\n",
       " 'finds': 34,\n",
       " 'bill': 35,\n",
       " 'really': 36,\n",
       " 'black': 37,\n",
       " 'years': 38,\n",
       " '5': 39,\n",
       " \"can't\": 40,\n",
       " 'school': 41,\n",
       " 'police': 42,\n",
       " 'best': 43,\n",
       " 'nation': 44,\n",
       " 'know': 45,\n",
       " 'going': 46,\n",
       " 'every': 47,\n",
       " 'american': 48,\n",
       " 'last': 49,\n",
       " 'death': 50,\n",
       " \"'the\": 51,\n",
       " 'say': 52,\n",
       " 'state': 53,\n",
       " 'campaign': 54,\n",
       " 'home': 55,\n",
       " 'getting': 56,\n",
       " 'health': 57,\n",
       " 'things': 58,\n",
       " 'president': 59,\n",
       " 'mom': 60,\n",
       " 'good': 61,\n",
       " 'may': 62,\n",
       " 'show': 63,\n",
       " 'big': 64,\n",
       " 'gets': 65,\n",
       " 'hillary': 66,\n",
       " 'year': 67,\n",
       " 'need': 68,\n",
       " 'little': 69,\n",
       " 'take': 70,\n",
       " 'video': 71,\n",
       " 'work': 72,\n",
       " 'parents': 73,\n",
       " 'study': 74,\n",
       " 'makes': 75,\n",
       " 'love': 76,\n",
       " 'john': 77,\n",
       " 'never': 78,\n",
       " 'watch': 79,\n",
       " 'party': 80,\n",
       " 'kids': 81,\n",
       " 'child': 82,\n",
       " 'calls': 83,\n",
       " 'right': 84,\n",
       " \"he's\": 85,\n",
       " '10': 86,\n",
       " 'court': 87,\n",
       " 'stop': 88,\n",
       " 'want': 89,\n",
       " 'news': 90,\n",
       " 'local': 91,\n",
       " 'even': 92,\n",
       " '3': 93,\n",
       " 'change': 94,\n",
       " 'takes': 95,\n",
       " \"here's\": 96,\n",
       " 'around': 97,\n",
       " 'next': 98,\n",
       " \"nation's\": 99,\n",
       " 'see': 100,\n",
       " 'look': 101,\n",
       " 'war': 102,\n",
       " 'another': 103,\n",
       " 'dead': 104,\n",
       " '--': 105,\n",
       " 'announces': 106,\n",
       " 'plan': 107,\n",
       " 'guy': 108,\n",
       " 'go': 109,\n",
       " 'report': 110,\n",
       " 'gay': 111,\n",
       " 'million': 112,\n",
       " 'got': 113,\n",
       " 'made': 114,\n",
       " 'finally': 115,\n",
       " 'baby': 116,\n",
       " 'wants': 117,\n",
       " 'election': 118,\n",
       " 'america': 119,\n",
       " 'college': 120,\n",
       " 'bush': 121,\n",
       " 'dog': 122,\n",
       " 'job': 123,\n",
       " 'dad': 124,\n",
       " 'real': 125,\n",
       " 'office': 126,\n",
       " 'help': 127,\n",
       " 'reveals': 128,\n",
       " 'thing': 129,\n",
       " 'high': 130,\n",
       " 'much': 131,\n",
       " 'couple': 132,\n",
       " 'gun': 133,\n",
       " 'congress': 134,\n",
       " 'north': 135,\n",
       " 'actually': 136,\n",
       " 'debate': 137,\n",
       " 'trying': 138,\n",
       " 'shows': 139,\n",
       " 'national': 140,\n",
       " \"man's\": 141,\n",
       " 'without': 142,\n",
       " 'week': 143,\n",
       " 'two': 144,\n",
       " 'sexual': 145,\n",
       " 'care': 146,\n",
       " 'sex': 147,\n",
       " 'give': 148,\n",
       " 'senate': 149,\n",
       " 'ever': 150,\n",
       " 'everyone': 151,\n",
       " 'climate': 152,\n",
       " 'money': 153,\n",
       " 'us': 154,\n",
       " 'night': 155,\n",
       " 'better': 156,\n",
       " 'old': 157,\n",
       " 'enough': 158,\n",
       " 'top': 159,\n",
       " 'paul': 160,\n",
       " 'facebook': 161,\n",
       " 'ways': 162,\n",
       " 'supreme': 163,\n",
       " 'teen': 164,\n",
       " '7': 165,\n",
       " 'entire': 166,\n",
       " 'star': 167,\n",
       " 'away': 168,\n",
       " 'introduces': 169,\n",
       " 'season': 170,\n",
       " 'food': 171,\n",
       " 'students': 172,\n",
       " 'face': 173,\n",
       " 'shooting': 174,\n",
       " '6': 175,\n",
       " 'york': 176,\n",
       " 'history': 177,\n",
       " 'media': 178,\n",
       " 'making': 179,\n",
       " 'pope': 180,\n",
       " '2': 181,\n",
       " 'fight': 182,\n",
       " 'movie': 183,\n",
       " 'attack': 184,\n",
       " 'god': 185,\n",
       " 'already': 186,\n",
       " 'tell': 187,\n",
       " 'end': 188,\n",
       " 'releases': 189,\n",
       " 'game': 190,\n",
       " 'think': 191,\n",
       " 'law': 192,\n",
       " 'government': 193,\n",
       " '4': 194,\n",
       " 'children': 195,\n",
       " 'find': 196,\n",
       " 'pretty': 197,\n",
       " 'bad': 198,\n",
       " 'former': 199,\n",
       " 'friend': 200,\n",
       " 'call': 201,\n",
       " 'tv': 202,\n",
       " 'part': 203,\n",
       " 'self': 204,\n",
       " 'found': 205,\n",
       " 'live': 206,\n",
       " 'unveils': 207,\n",
       " 'son': 208,\n",
       " 'body': 209,\n",
       " 'come': 210,\n",
       " 'social': 211,\n",
       " 'business': 212,\n",
       " 'presidential': 213,\n",
       " 'single': 214,\n",
       " 'fire': 215,\n",
       " 'film': 216,\n",
       " 'city': 217,\n",
       " 'company': 218,\n",
       " 'keep': 219,\n",
       " 'behind': 220,\n",
       " 'men': 221,\n",
       " 'sanders': 222,\n",
       " 'use': 223,\n",
       " 'support': 224,\n",
       " 'deal': 225,\n",
       " 'public': 226,\n",
       " 'friends': 227,\n",
       " 'car': 228,\n",
       " 'great': 229,\n",
       " 'power': 230,\n",
       " 'scientists': 231,\n",
       " 'speech': 232,\n",
       " 'name': 233,\n",
       " 'line': 234,\n",
       " 'story': 235,\n",
       " 'case': 236,\n",
       " 'thinks': 237,\n",
       " 'must': 238,\n",
       " 'wedding': 239,\n",
       " 'republican': 240,\n",
       " 'human': 241,\n",
       " 'fucking': 242,\n",
       " 'security': 243,\n",
       " 'might': 244,\n",
       " 'book': 245,\n",
       " 'room': 246,\n",
       " 'james': 247,\n",
       " 'claims': 248,\n",
       " 'photos': 249,\n",
       " 'coming': 250,\n",
       " 'asks': 251,\n",
       " 'morning': 252,\n",
       " 'something': 253,\n",
       " 'talk': 254,\n",
       " 'voters': 255,\n",
       " 'forced': 256,\n",
       " 'used': 257,\n",
       " 'goes': 258,\n",
       " 'fans': 259,\n",
       " 'ceo': 260,\n",
       " 'run': 261,\n",
       " \"world's\": 262,\n",
       " 'admits': 263,\n",
       " 'michael': 264,\n",
       " 'group': 265,\n",
       " 'secret': 266,\n",
       " 'republicans': 267,\n",
       " 'democrats': 268,\n",
       " 'rights': 269,\n",
       " 'student': 270,\n",
       " 'tax': 271,\n",
       " 'killed': 272,\n",
       " 'vote': 273,\n",
       " 'violence': 274,\n",
       " '8': 275,\n",
       " 'open': 276,\n",
       " 'free': 277,\n",
       " 'marriage': 278,\n",
       " 'girl': 279,\n",
       " 'christmas': 280,\n",
       " 'plans': 281,\n",
       " 'win': 282,\n",
       " 'bernie': 283,\n",
       " 'put': 284,\n",
       " 'ad': 285,\n",
       " 'many': 286,\n",
       " 'always': 287,\n",
       " 'looking': 288,\n",
       " 'sure': 289,\n",
       " 'team': 290,\n",
       " 'study:': 291,\n",
       " 'running': 292,\n",
       " 'country': 293,\n",
       " 'department': 294,\n",
       " 'long': 295,\n",
       " 'ban': 296,\n",
       " 'teacher': 297,\n",
       " 'middle': 298,\n",
       " 'future': 299,\n",
       " 'political': 300,\n",
       " 'second': 301,\n",
       " 'water': 302,\n",
       " 'judge': 303,\n",
       " 'inside': 304,\n",
       " 'ryan': 305,\n",
       " 'dies': 306,\n",
       " 'twitter': 307,\n",
       " 'meet': 308,\n",
       " 'warns': 309,\n",
       " 'let': 310,\n",
       " 'reports': 311,\n",
       " 'tells': 312,\n",
       " 'employee': 313,\n",
       " 'super': 314,\n",
       " 'taking': 315,\n",
       " '2016': 316,\n",
       " 'past': 317,\n",
       " 'photo': 318,\n",
       " 'female': 319,\n",
       " 'idea': 320,\n",
       " 'minutes': 321,\n",
       " 'missing': 322,\n",
       " 'perfect': 323,\n",
       " 'candidate': 324,\n",
       " 'days': 325,\n",
       " 'music': 326,\n",
       " 'person': 327,\n",
       " 'looks': 328,\n",
       " 'wife': 329,\n",
       " 'george': 330,\n",
       " 'thousands': 331,\n",
       " 'needs': 332,\n",
       " 'mike': 333,\n",
       " 'living': 334,\n",
       " 'list': 335,\n",
       " 'everything': 336,\n",
       " 'save': 337,\n",
       " 'hot': 338,\n",
       " 'father': 339,\n",
       " 'control': 340,\n",
       " 'red': 341,\n",
       " 'left': 342,\n",
       " 'gives': 343,\n",
       " 'summer': 344,\n",
       " 'comes': 345,\n",
       " 'boy': 346,\n",
       " 'hours': 347,\n",
       " 'meeting': 348,\n",
       " 'race': 349,\n",
       " 'set': 350,\n",
       " 'head': 351,\n",
       " 'full': 352,\n",
       " 'art': 353,\n",
       " \"'i\": 354,\n",
       " 'secretary': 355,\n",
       " 'ready': 356,\n",
       " 'someone': 357,\n",
       " 'place': 358,\n",
       " 'california': 359,\n",
       " 'mother': 360,\n",
       " 'service': 361,\n",
       " 'probably': 362,\n",
       " 'town': 363,\n",
       " 'pay': 364,\n",
       " 'times': 365,\n",
       " 'believe': 366,\n",
       " 'start': 367,\n",
       " 'lives': 368,\n",
       " 'officials': 369,\n",
       " 'talks': 370,\n",
       " 'wrong': 371,\n",
       " 'thought': 372,\n",
       " '20': 373,\n",
       " 'giving': 374,\n",
       " 'working': 375,\n",
       " 'obamacare': 376,\n",
       " 'young': 377,\n",
       " 'together': 378,\n",
       " 'wall': 379,\n",
       " 'justice': 380,\n",
       " \"women's\": 381,\n",
       " 'record': 382,\n",
       " 'russia': 383,\n",
       " 'cancer': 384,\n",
       " 'kim': 385,\n",
       " 'prison': 386,\n",
       " 'ice': 387,\n",
       " 'shot': 388,\n",
       " 'letter': 389,\n",
       " \"i'm\": 390,\n",
       " 'texas': 391,\n",
       " 'lost': 392,\n",
       " 'watching': 393,\n",
       " 'states': 394,\n",
       " 'feel': 395,\n",
       " 'ted': 396,\n",
       " 'owner': 397,\n",
       " 'age': 398,\n",
       " 'eating': 399,\n",
       " 'fan': 400,\n",
       " 'wins': 401,\n",
       " 'cruz': 402,\n",
       " 'south': 403,\n",
       " 'fbi': 404,\n",
       " 'dream': 405,\n",
       " 'mark': 406,\n",
       " 'street': 407,\n",
       " 'kill': 408,\n",
       " 'using': 409,\n",
       " 'chris': 410,\n",
       " 'phone': 411,\n",
       " 'democratic': 412,\n",
       " 'administration': 413,\n",
       " 'yet': 414,\n",
       " 'restaurant': 415,\n",
       " 'today': 416,\n",
       " 'months': 417,\n",
       " 'leaves': 418,\n",
       " 'federal': 419,\n",
       " 'outside': 420,\n",
       " 'daughter': 421,\n",
       " 'leave': 422,\n",
       " 'cat': 423,\n",
       " 'three': 424,\n",
       " 'talking': 425,\n",
       " 'small': 426,\n",
       " 'questions': 427,\n",
       " 'following': 428,\n",
       " 'nothing': 429,\n",
       " '12': 430,\n",
       " 'percent': 431,\n",
       " 'heart': 432,\n",
       " 'latest': 433,\n",
       " 'korea': 434,\n",
       " 'majority': 435,\n",
       " 'director': 436,\n",
       " 'biden': 437,\n",
       " 'tips': 438,\n",
       " 'military': 439,\n",
       " 'online': 440,\n",
       " 'bar': 441,\n",
       " 'poll': 442,\n",
       " 'shit': 443,\n",
       " 'personal': 444,\n",
       " 'internet': 445,\n",
       " 'francis': 446,\n",
       " 'since': 447,\n",
       " 'kind': 448,\n",
       " 'gift': 449,\n",
       " 'less': 450,\n",
       " 'move': 451,\n",
       " 'system': 452,\n",
       " 'fox': 453,\n",
       " 'buy': 454,\n",
       " 'king': 455,\n",
       " \"what's\": 456,\n",
       " 'excited': 457,\n",
       " 'guide': 458,\n",
       " 'attacks': 459,\n",
       " 'class': 460,\n",
       " 'isis': 461,\n",
       " 'community': 462,\n",
       " 'florida': 463,\n",
       " 'earth': 464,\n",
       " 'drug': 465,\n",
       " 'birthday': 466,\n",
       " 'issues': 467,\n",
       " 'tweets': 468,\n",
       " 'nuclear': 469,\n",
       " 'education': 470,\n",
       " 'washington': 471,\n",
       " 'iran': 472,\n",
       " 'knows': 473,\n",
       " 'spends': 474,\n",
       " 'stephen': 475,\n",
       " 'rock': 476,\n",
       " 'air': 477,\n",
       " 'offers': 478,\n",
       " 'investigation': 479,\n",
       " 'different': 480,\n",
       " 'told': 481,\n",
       " 'order': 482,\n",
       " 'reason': 483,\n",
       " 'march': 484,\n",
       " 'chief': 485,\n",
       " 'sleep': 486,\n",
       " 'rules': 487,\n",
       " 'hit': 488,\n",
       " 'worried': 489,\n",
       " 'month': 490,\n",
       " 'whole': 491,\n",
       " 'congressman': 492,\n",
       " 'romney': 493,\n",
       " 'visit': 494,\n",
       " 'huge': 495,\n",
       " 'lot': 496,\n",
       " 'mueller': 497,\n",
       " 'series': 498,\n",
       " 'scott': 499,\n",
       " 'trip': 500,\n",
       " 'celebrates': 501,\n",
       " 'response': 502,\n",
       " 'beautiful': 503,\n",
       " 'assault': 504,\n",
       " 'favorite': 505,\n",
       " 'holiday': 506,\n",
       " 'kid': 507,\n",
       " 'waiting': 508,\n",
       " 'read': 509,\n",
       " 'word': 510,\n",
       " 'special': 511,\n",
       " 'david': 512,\n",
       " 'wearing': 513,\n",
       " 'protest': 514,\n",
       " \"america's\": 515,\n",
       " 'millions': 516,\n",
       " 'trailer': 517,\n",
       " 'russian': 518,\n",
       " 'box': 519,\n",
       " 'crisis': 520,\n",
       " 'leaders': 521,\n",
       " 'fun': 522,\n",
       " 'struggling': 523,\n",
       " 'reasons': 524,\n",
       " 'travel': 525,\n",
       " 'hard': 526,\n",
       " 'break': 527,\n",
       " 'hollywood': 528,\n",
       " 'ask': 529,\n",
       " \"obama's\": 530,\n",
       " 'billion': 531,\n",
       " 'relationship': 532,\n",
       " 'play': 533,\n",
       " 'taylor': 534,\n",
       " 'cover': 535,\n",
       " 'chinese': 536,\n",
       " 'accused': 537,\n",
       " 'opens': 538,\n",
       " 'become': 539,\n",
       " 'starting': 540,\n",
       " 'straight': 541,\n",
       " 'happy': 542,\n",
       " 'huffpost': 543,\n",
       " 'date': 544,\n",
       " '9': 545,\n",
       " 'stars': 546,\n",
       " 'fall': 547,\n",
       " 'feels': 548,\n",
       " 'candidates': 549,\n",
       " 'vows': 550,\n",
       " 'least': 551,\n",
       " 'front': 552,\n",
       " 'girls': 553,\n",
       " 'anything': 554,\n",
       " 'united': 555,\n",
       " 'killing': 556,\n",
       " 'email:': 557,\n",
       " 'hair': 558,\n",
       " 'union': 559,\n",
       " 'bring': 560,\n",
       " 'massive': 561,\n",
       " 'returns': 562,\n",
       " 'cop': 563,\n",
       " 'weekend': 564,\n",
       " 'mass': 565,\n",
       " 'thinking': 566,\n",
       " 'birth': 567,\n",
       " 'career': 568,\n",
       " 'jimmy': 569,\n",
       " 'clearly': 570,\n",
       " 'turns': 571,\n",
       " 'discover': 572,\n",
       " 'turn': 573,\n",
       " 'lessons': 574,\n",
       " 'immigration': 575,\n",
       " 'tom': 576,\n",
       " 'message': 577,\n",
       " '1': 578,\n",
       " 'hope': 579,\n",
       " 'victims': 580,\n",
       " 'whether': 581,\n",
       " 'moment': 582,\n",
       " \"they're\": 583,\n",
       " 'completely': 584,\n",
       " 'adds': 585,\n",
       " 'girlfriend': 586,\n",
       " 'third': 587,\n",
       " 'totally': 588,\n",
       " 'learned': 589,\n",
       " 'hate': 590,\n",
       " 'china': 591,\n",
       " 'drunk': 592,\n",
       " 'wishes': 593,\n",
       " 'leader': 594,\n",
       " 'called': 595,\n",
       " '2015': 596,\n",
       " 'early': 597,\n",
       " 'experts': 598,\n",
       " 'muslim': 599,\n",
       " 'problem': 600,\n",
       " 'breaks': 601,\n",
       " 'across': 602,\n",
       " 'center': 603,\n",
       " 'senator': 604,\n",
       " 'adorable': 605,\n",
       " 'keeps': 606,\n",
       " 'hoping': 607,\n",
       " 'hands': 608,\n",
       " 'syrian': 609,\n",
       " 'announce': 610,\n",
       " 'apple': 611,\n",
       " 'conversation': 612,\n",
       " 'store': 613,\n",
       " 'puts': 614,\n",
       " 'fashion': 615,\n",
       " 'apartment': 616,\n",
       " 'policy': 617,\n",
       " 'moving': 618,\n",
       " 'role': 619,\n",
       " 'joe': 620,\n",
       " 'pence': 621,\n",
       " 'point': 622,\n",
       " 'interview': 623,\n",
       " 'stage': 624,\n",
       " 'begins': 625,\n",
       " 'powerful': 626,\n",
       " 'kills': 627,\n",
       " \"there's\": 628,\n",
       " 'final': 629,\n",
       " 'cops': 630,\n",
       " 'murder': 631,\n",
       " 'employees': 632,\n",
       " 'key': 633,\n",
       " 'reality': 634,\n",
       " 'decision': 635,\n",
       " 'robert': 636,\n",
       " 'sick': 637,\n",
       " 'almost': 638,\n",
       " 'politics': 639,\n",
       " 'hurricane': 640,\n",
       " 'signs': 641,\n",
       " 'sign': 642,\n",
       " 'feeling': 643,\n",
       " 'abuse': 644,\n",
       " 'song': 645,\n",
       " 'mental': 646,\n",
       " 'abortion': 647,\n",
       " 'press': 648,\n",
       " 'playing': 649,\n",
       " 'prince': 650,\n",
       " '11': 651,\n",
       " 'hall': 652,\n",
       " 'longer': 653,\n",
       " 'anniversary': 654,\n",
       " 'names': 655,\n",
       " 'die': 656,\n",
       " 'schools': 657,\n",
       " 'dance': 658,\n",
       " 'anyone': 659,\n",
       " 'lose': 660,\n",
       " 'crash': 661,\n",
       " 'amazon': 662,\n",
       " 'awards': 663,\n",
       " 'dating': 664,\n",
       " 'hits': 665,\n",
       " 'global': 666,\n",
       " 'demands': 667,\n",
       " 'lead': 668,\n",
       " 'worth': 669,\n",
       " 'light': 670,\n",
       " 'queer': 671,\n",
       " 'evidence': 672,\n",
       " 'dinner': 673,\n",
       " 'sports': 674,\n",
       " 'steve': 675,\n",
       " 'experience': 676,\n",
       " 'seen': 677,\n",
       " 'worst': 678,\n",
       " 'watch:': 679,\n",
       " 'trump:': 680,\n",
       " 'true': 681,\n",
       " 'university': 682,\n",
       " 'post': 683,\n",
       " 'words': 684,\n",
       " 'coffee': 685,\n",
       " 'weird': 686,\n",
       " 'bus': 687,\n",
       " 'apologizes': 688,\n",
       " 'return': 689,\n",
       " 'chance': 690,\n",
       " 'host': 691,\n",
       " '30': 692,\n",
       " 'reportedly': 693,\n",
       " 'urges': 694,\n",
       " 'trans': 695,\n",
       " 'audience': 696,\n",
       " 'nfl': 697,\n",
       " 'shop': 698,\n",
       " 'test': 699,\n",
       " 'possible': 700,\n",
       " 'program': 701,\n",
       " 'hear': 702,\n",
       " 'band': 703,\n",
       " 'west': 704,\n",
       " 'kardashian': 705,\n",
       " 'remember': 706,\n",
       " 'try': 707,\n",
       " 'important': 708,\n",
       " 'oil': 709,\n",
       " 'transgender': 710,\n",
       " 'coworker': 711,\n",
       " 'given': 712,\n",
       " '9/11': 713,\n",
       " 'voter': 714,\n",
       " 'brings': 715,\n",
       " 'chicago': 716,\n",
       " 'users': 717,\n",
       " 'tour': 718,\n",
       " 'biggest': 719,\n",
       " 'reveal': 720,\n",
       " 'workers': 721,\n",
       " 'accidentally': 722,\n",
       " 'road': 723,\n",
       " 'protesters': 724,\n",
       " 'hand': 725,\n",
       " 'oscar': 726,\n",
       " 'suspect': 727,\n",
       " 'plane': 728,\n",
       " 'dying': 729,\n",
       " 'halloween': 730,\n",
       " 'stand': 731,\n",
       " 'success': 732,\n",
       " 'supporters': 733,\n",
       " 'elizabeth': 734,\n",
       " 'number': 735,\n",
       " 'quietly': 736,\n",
       " 'rubio': 737,\n",
       " 'reminds': 738,\n",
       " 'fuck': 739,\n",
       " 'advice': 740,\n",
       " 'iowa': 741,\n",
       " 'risk': 742,\n",
       " 'table': 743,\n",
       " 'governor': 744,\n",
       " 'address': 745,\n",
       " 'uses': 746,\n",
       " 'official': 747,\n",
       " 'fighting': 748,\n",
       " 'check': 749,\n",
       " 'rest': 750,\n",
       " 'planned': 751,\n",
       " 'michelle': 752,\n",
       " 'picture': 753,\n",
       " 'major': 754,\n",
       " 'push': 755,\n",
       " 'pregnant': 756,\n",
       " 'executive': 757,\n",
       " 'suggests': 758,\n",
       " 'cut': 759,\n",
       " 'finding': 760,\n",
       " 'avoid': 761,\n",
       " 'oscars': 762,\n",
       " 'poor': 763,\n",
       " 'lets': 764,\n",
       " 'late': 765,\n",
       " 'celebrate': 766,\n",
       " 'nyc': 767,\n",
       " 'cnn': 768,\n",
       " 'website': 769,\n",
       " 'learn': 770,\n",
       " 'boys': 771,\n",
       " 'apparently': 772,\n",
       " 'surprise': 773,\n",
       " 'bathroom': 774,\n",
       " 'prevent': 775,\n",
       " '15': 776,\n",
       " 'industry': 777,\n",
       " 'far': 778,\n",
       " 'church': 779,\n",
       " 'general': 780,\n",
       " 'doctor': 781,\n",
       " 'eat': 782,\n",
       " 'walking': 783,\n",
       " 'google': 784,\n",
       " 'members': 785,\n",
       " 'suicide': 786,\n",
       " 'homeless': 787,\n",
       " 'fear': 788,\n",
       " 'side': 789,\n",
       " 'allegations': 790,\n",
       " 'died': 791,\n",
       " 'park': 792,\n",
       " 'ben': 793,\n",
       " 'throws': 794,\n",
       " 'bowl': 795,\n",
       " 'football': 796,\n",
       " 'performance': 797,\n",
       " 'recalls': 798,\n",
       " 'voting': 799,\n",
       " 'demand': 800,\n",
       " 'data': 801,\n",
       " 'driving': 802,\n",
       " 'saudi': 803,\n",
       " 'train': 804,\n",
       " 'private': 805,\n",
       " 'five': 806,\n",
       " 'shares': 807,\n",
       " 'paris': 808,\n",
       " 'force': 809,\n",
       " 'older': 810,\n",
       " 'leading': 811,\n",
       " 'pick': 812,\n",
       " 'mind': 813,\n",
       " '2017': 814,\n",
       " 'passes': 815,\n",
       " 'driver': 816,\n",
       " 'rally': 817,\n",
       " 'perfectly': 818,\n",
       " 'album': 819,\n",
       " 'happens': 820,\n",
       " 'receives': 821,\n",
       " 'ideas': 822,\n",
       " 'teens': 823,\n",
       " 'netflix': 824,\n",
       " 'space': 825,\n",
       " 'sean': 826,\n",
       " 'loses': 827,\n",
       " 'beauty': 828,\n",
       " 'iraq': 829,\n",
       " 'jeff': 830,\n",
       " 'hour': 831,\n",
       " 'simple': 832,\n",
       " 'act': 833,\n",
       " 'likely': 834,\n",
       " 'staff': 835,\n",
       " 'holding': 836,\n",
       " \"woman's\": 837,\n",
       " 'episode': 838,\n",
       " 'emotional': 839,\n",
       " 'toward': 840,\n",
       " 'green': 841,\n",
       " 'fails': 842,\n",
       " 'realizes': 843,\n",
       " 'asking': 844,\n",
       " 'queen': 845,\n",
       " 'leaving': 846,\n",
       " 'voice': 847,\n",
       " 'reform': 848,\n",
       " 'results': 849,\n",
       " 'learning': 850,\n",
       " 'artist': 851,\n",
       " 'grandma': 852,\n",
       " \"we're\": 853,\n",
       " 'onion': 854,\n",
       " 'christian': 855,\n",
       " 'problems': 856,\n",
       " 'character': 857,\n",
       " 'card': 858,\n",
       " \"year's\": 859,\n",
       " 'wait': 860,\n",
       " 'jr.': 861,\n",
       " 'sound': 862,\n",
       " 'boss': 863,\n",
       " 'leads': 864,\n",
       " 'vacation': 865,\n",
       " 'humans': 866,\n",
       " 'chicken': 867,\n",
       " \"that's\": 868,\n",
       " 'syria': 869,\n",
       " 'building': 870,\n",
       " 'gave': 871,\n",
       " 'spend': 872,\n",
       " 'residents': 873,\n",
       " '50': 874,\n",
       " \"mother's\": 875,\n",
       " 'went': 876,\n",
       " 'despite': 877,\n",
       " 'explains': 878,\n",
       " 'spending': 879,\n",
       " 'swift': 880,\n",
       " 'epa': 881,\n",
       " 'amazing': 882,\n",
       " 'spot': 883,\n",
       " 'said': 884,\n",
       " 'wondering': 885,\n",
       " 'slams': 886,\n",
       " 'magazine': 887,\n",
       " 'steps': 888,\n",
       " 'board': 889,\n",
       " 'planet': 890,\n",
       " 'amid': 891,\n",
       " 'martin': 892,\n",
       " 'eyes': 893,\n",
       " 'telling': 894,\n",
       " 'proud': 895,\n",
       " 'defense': 896,\n",
       " 'dozens': 897,\n",
       " 'moore': 898,\n",
       " 'jenner': 899,\n",
       " 'deadly': 900,\n",
       " 'peace': 901,\n",
       " 'economy': 902,\n",
       " 'carolina': 903,\n",
       " 'battle': 904,\n",
       " 'ago': 905,\n",
       " \"'game\": 906,\n",
       " 'hopes': 907,\n",
       " 'email': 908,\n",
       " 'weight': 909,\n",
       " 'reporter': 910,\n",
       " 'thanksgiving': 911,\n",
       " 'comments': 912,\n",
       " 'close': 913,\n",
       " 'nearly': 914,\n",
       " 'lgbt': 915,\n",
       " 'attempt': 916,\n",
       " 'al': 917,\n",
       " 'historical': 918,\n",
       " 'harassment': 919,\n",
       " 'responds': 920,\n",
       " 'airport': 921,\n",
       " 'opening': 922,\n",
       " 'crowd': 923,\n",
       " 'documentary': 924,\n",
       " \"let's\": 925,\n",
       " 'desperate': 926,\n",
       " 'ahead': 927,\n",
       " 'hearing': 928,\n",
       " 'promises': 929,\n",
       " 'release': 930,\n",
       " 'player': 931,\n",
       " 'jobs': 932,\n",
       " 'st.': 933,\n",
       " 'hilarious': 934,\n",
       " 'moms': 935,\n",
       " 'hospital': 936,\n",
       " 'committee': 937,\n",
       " 'also': 938,\n",
       " 'pizza': 939,\n",
       " 'seeing': 940,\n",
       " 'foreign': 941,\n",
       " 'well': 942,\n",
       " 'eric': 943,\n",
       " 'loss': 944,\n",
       " 'hundreds': 945,\n",
       " 'enters': 946,\n",
       " '2014': 947,\n",
       " 'families': 948,\n",
       " 'kelly': 949,\n",
       " 'among': 950,\n",
       " 'arrested': 951,\n",
       " 'movies': 952,\n",
       " 'commercial': 953,\n",
       " 'olympic': 954,\n",
       " 'legal': 955,\n",
       " 'easy': 956,\n",
       " 'came': 957,\n",
       " 'financial': 958,\n",
       " 'sales': 959,\n",
       " 'reading': 960,\n",
       " 'faces': 961,\n",
       " 'spring': 962,\n",
       " 'energy': 963,\n",
       " 'question': 964,\n",
       " 'putting': 965,\n",
       " 'near': 966,\n",
       " 'kerry': 967,\n",
       " 'medical': 968,\n",
       " \"thrones'\": 969,\n",
       " 'send': 970,\n",
       " 'blood': 971,\n",
       " 'lady': 972,\n",
       " 'racist': 973,\n",
       " 'male': 974,\n",
       " 'marijuana': 975,\n",
       " 'done': 976,\n",
       " 'ferguson': 977,\n",
       " 'officer': 978,\n",
       " 'fake': 979,\n",
       " 'speak': 980,\n",
       " 'raise': 981,\n",
       " 'colbert': 982,\n",
       " 'search': 983,\n",
       " 'shut': 984,\n",
       " 'san': 985,\n",
       " 'congressional': 986,\n",
       " 'breaking': 987,\n",
       " 'elderly': 988,\n",
       " 'thanks': 989,\n",
       " 'youth': 990,\n",
       " 'lawsuit': 991,\n",
       " 'cool': 992,\n",
       " 'williams': 993,\n",
       " 'protect': 994,\n",
       " 'average': 995,\n",
       " '13': 996,\n",
       " 'caught': 997,\n",
       " 'saying': 998,\n",
       " 'healthy': 999,\n",
       " 'museum': 1000,\n",
       " ...}"
      ]
     },
     "execution_count": 22,
     "metadata": {
      "tags": []
     },
     "output_type": "execute_result"
    }
   ],
   "source": [
    "tokenizer.word_index"
   ]
  },
  {
   "cell_type": "markdown",
   "metadata": {
    "colab_type": "text",
    "id": "bUF1TuQa8ux0"
   },
   "source": [
    "### Load Glove Word Embeddings (3 Marks)"
   ]
  },
  {
   "cell_type": "code",
   "execution_count": 23,
   "metadata": {
    "colab": {},
    "colab_type": "code",
    "id": "vq5AIfRtMeZh"
   },
   "outputs": [],
   "source": [
    "# GloVe method is built on an important idea, You can derive semantic relationships between words from the co-occurrence matrix.\n",
    "x_train,x_test,y_train,y_test = train_test_split(Data.headline,Data.is_sarcastic, test_size = 0.3 , random_state = 0)"
   ]
  },
  {
   "cell_type": "code",
   "execution_count": 24,
   "metadata": {
    "colab": {},
    "colab_type": "code",
    "id": "34b09dHzjjOp"
   },
   "outputs": [],
   "source": [
    "max_features = 35000\n",
    "maxlen = 200"
   ]
  },
  {
   "cell_type": "code",
   "execution_count": 25,
   "metadata": {
    "colab": {},
    "colab_type": "code",
    "id": "ksCk1FUHjo65"
   },
   "outputs": [],
   "source": [
    "tokenizer = text.Tokenizer(num_words=max_features)\n",
    "tokenizer.fit_on_texts(x_train)\n",
    "tokenized_train = tokenizer.texts_to_sequences(x_train)\n",
    "x_train = sequence.pad_sequences(tokenized_train, maxlen=maxlen)"
   ]
  },
  {
   "cell_type": "code",
   "execution_count": 26,
   "metadata": {
    "colab": {},
    "colab_type": "code",
    "id": "NUfMJ3hSjqkX"
   },
   "outputs": [],
   "source": [
    "tokenized_test = tokenizer.texts_to_sequences(x_test)\n",
    "X_test = sequence.pad_sequences(tokenized_test, maxlen=maxlen)"
   ]
  },
  {
   "cell_type": "code",
   "execution_count": 27,
   "metadata": {
    "colab": {},
    "colab_type": "code",
    "id": "i_THAsOhjsvq"
   },
   "outputs": [],
   "source": [
    "EMBEDDING_FILE = 'gdrive/My Drive/DATA/glove.6B.200d.txt'"
   ]
  },
  {
   "cell_type": "code",
   "execution_count": 28,
   "metadata": {
    "colab": {},
    "colab_type": "code",
    "id": "IyXScDZ6u1XC"
   },
   "outputs": [],
   "source": [
    "def get_coefs(word, *arr): \n",
    "    return word, np.asarray(arr, dtype='float32')"
   ]
  },
  {
   "cell_type": "markdown",
   "metadata": {
    "colab_type": "text",
    "id": "prHSzdQUcZhm"
   },
   "source": [
    "### Create embedding matrix"
   ]
  },
  {
   "cell_type": "code",
   "execution_count": 29,
   "metadata": {
    "colab": {},
    "colab_type": "code",
    "id": "43sHa7sWu7pK"
   },
   "outputs": [],
   "source": [
    "embeddings_index = dict(get_coefs(*o.rstrip().rsplit(' ')) for o in open(EMBEDDING_FILE))"
   ]
  },
  {
   "cell_type": "code",
   "execution_count": 30,
   "metadata": {
    "colab": {
     "base_uri": "https://localhost:8080/",
     "height": 111
    },
    "colab_type": "code",
    "id": "js9Z6Fu7vAlv",
    "outputId": "fae6e558-2714-474c-a08a-b6d233b26be0"
   },
   "outputs": [
    {
     "name": "stderr",
     "output_type": "stream",
     "text": [
      "/usr/local/lib/python3.6/dist-packages/IPython/core/interactiveshell.py:2822: FutureWarning: arrays to stack must be passed as a \"sequence\" type such as list or tuple. Support for non-sequence iterables such as generators is deprecated as of NumPy 1.16 and will raise an error in the future.\n",
      "  if self.run_code(code, result):\n"
     ]
    }
   ],
   "source": [
    "all_embs = np.stack(embeddings_index.values())\n",
    "emb_mean,emb_std = all_embs.mean(), all_embs.std()\n",
    "embed_size = all_embs.shape[1]\n",
    "\n",
    "word_index = tokenizer.word_index\n",
    "nb_words = min(max_features, len(word_index))\n",
    "#change below line if computing normal stats is too slow\n",
    "embedding_matrix = embedding_matrix = np.random.normal(emb_mean, emb_std, (nb_words, embed_size))\n",
    "for word, i in word_index.items():\n",
    "    if i >= max_features: continue\n",
    "    embedding_vector = embeddings_index.get(word)\n",
    "    if embedding_vector is not None:\n",
    "      embedding_matrix[i] = embedding_vector"
   ]
  },
  {
   "cell_type": "markdown",
   "metadata": {
    "colab_type": "text",
    "id": "u7IbWuEX82Ra"
   },
   "source": [
    "### Define model (5 Marks)\n",
    "- Hint: Use Sequential model instance and then add Embedding layer, Bidirectional(LSTM) layer, then dense and dropout layers as required. \n",
    "In the end add a final dense layer with sigmoid activation for binary classification."
   ]
  },
  {
   "cell_type": "code",
   "execution_count": 38,
   "metadata": {
    "colab": {},
    "colab_type": "code",
    "id": "w9VfV1M3vGAe"
   },
   "outputs": [],
   "source": [
    "batch_size = 128\n",
    "epochs = 2\n",
    "embed_size = 200"
   ]
  },
  {
   "cell_type": "code",
   "execution_count": 39,
   "metadata": {
    "colab": {
     "base_uri": "https://localhost:8080/",
     "height": 128
    },
    "colab_type": "code",
    "id": "4tv168Gmc3PY",
    "outputId": "f80632c4-663e-488d-f163-e669b1346572"
   },
   "outputs": [
    {
     "name": "stdout",
     "output_type": "stream",
     "text": [
      "WARNING:tensorflow:Layer lstm_1 will not use cuDNN kernel since it doesn't meet the cuDNN kernel criteria. It will use generic GPU kernel as fallback when running on GPU\n",
      "WARNING:tensorflow:Layer lstm_1 will not use cuDNN kernel since it doesn't meet the cuDNN kernel criteria. It will use generic GPU kernel as fallback when running on GPU\n",
      "WARNING:tensorflow:Layer lstm_1 will not use cuDNN kernel since it doesn't meet the cuDNN kernel criteria. It will use generic GPU kernel as fallback when running on GPU\n"
     ]
    }
   ],
   "source": [
    "#Defining Neural Network\n",
    "model = Sequential()\n",
    "#Non-trainable embeddidng layer\n",
    "model.add(Embedding(nb_words, output_dim=embed_size, weights=[embedding_matrix], input_length=200, trainable=True))\n",
    "#LSTM \n",
    "model.add(Bidirectional(LSTM(units=128 , recurrent_dropout = 0.5 , dropout = 0.5)))\n",
    "model.add(Dense(1, activation='sigmoid'))"
   ]
  },
  {
   "cell_type": "markdown",
   "metadata": {
    "colab_type": "text",
    "id": "xoI7_8Y1cqTj"
   },
   "source": [
    "### Compile the model (3 Marks)"
   ]
  },
  {
   "cell_type": "code",
   "execution_count": 40,
   "metadata": {
    "colab": {},
    "colab_type": "code",
    "id": "-jJiPHeNoJ3U"
   },
   "outputs": [],
   "source": [
    "model.compile(optimizer=keras.optimizers.Adam(lr = 0.01), loss='binary_crossentropy', metrics=['acc'])"
   ]
  },
  {
   "cell_type": "code",
   "execution_count": 41,
   "metadata": {
    "colab": {
     "base_uri": "https://localhost:8080/",
     "height": 255
    },
    "colab_type": "code",
    "id": "yDUG5FvfyzyW",
    "outputId": "3e146032-f5cb-4968-f554-6add5078d575"
   },
   "outputs": [
    {
     "name": "stdout",
     "output_type": "stream",
     "text": [
      "Model: \"sequential_1\"\n",
      "_________________________________________________________________\n",
      "Layer (type)                 Output Shape              Param #   \n",
      "=================================================================\n",
      "embedding_1 (Embedding)      (None, 200, 200)          5165000   \n",
      "_________________________________________________________________\n",
      "bidirectional_1 (Bidirection (None, 256)               336896    \n",
      "_________________________________________________________________\n",
      "dense_1 (Dense)              (None, 1)                 257       \n",
      "=================================================================\n",
      "Total params: 5,502,153\n",
      "Trainable params: 5,502,153\n",
      "Non-trainable params: 0\n",
      "_________________________________________________________________\n"
     ]
    }
   ],
   "source": [
    "model.summary()"
   ]
  },
  {
   "cell_type": "markdown",
   "metadata": {
    "colab_type": "text",
    "id": "7s4nmqcecw3a"
   },
   "source": [
    "### Fit the model (4 Marks)"
   ]
  },
  {
   "cell_type": "code",
   "execution_count": 42,
   "metadata": {
    "colab": {
     "base_uri": "https://localhost:8080/",
     "height": 647
    },
    "colab_type": "code",
    "id": "NN789zNnJ5PL",
    "outputId": "5fe0d529-dc0f-4cdc-bc25-7040e18e2e54"
   },
   "outputs": [
    {
     "name": "stdout",
     "output_type": "stream",
     "text": [
      "Epoch 1/2\n",
      "139/157 [=========================>....] - ETA: 24s - loss: 0.5230 - acc: 0.7401"
     ]
    },
    {
     "ename": "InvalidArgumentError",
     "evalue": "ignored",
     "output_type": "error",
     "traceback": [
      "\u001b[0;31m---------------------------------------------------------------------------\u001b[0m",
      "\u001b[0;31mInvalidArgumentError\u001b[0m                      Traceback (most recent call last)",
      "\u001b[0;32m<ipython-input-42-9924b7a90816>\u001b[0m in \u001b[0;36m<module>\u001b[0;34m()\u001b[0m\n\u001b[0;32m----> 1\u001b[0;31m \u001b[0mmodel\u001b[0m\u001b[0;34m.\u001b[0m\u001b[0mfit\u001b[0m\u001b[0;34m(\u001b[0m\u001b[0mx_train\u001b[0m\u001b[0;34m,\u001b[0m \u001b[0my_train\u001b[0m\u001b[0;34m,\u001b[0m \u001b[0mbatch_size\u001b[0m \u001b[0;34m=\u001b[0m \u001b[0mbatch_size\u001b[0m \u001b[0;34m,\u001b[0m \u001b[0mvalidation_data\u001b[0m \u001b[0;34m=\u001b[0m \u001b[0;34m(\u001b[0m\u001b[0mX_test\u001b[0m\u001b[0;34m,\u001b[0m\u001b[0my_test\u001b[0m\u001b[0;34m)\u001b[0m \u001b[0;34m,\u001b[0m \u001b[0mepochs\u001b[0m \u001b[0;34m=\u001b[0m \u001b[0;36m2\u001b[0m\u001b[0;34m)\u001b[0m\u001b[0;34m\u001b[0m\u001b[0;34m\u001b[0m\u001b[0m\n\u001b[0m",
      "\u001b[0;32m/usr/local/lib/python3.6/dist-packages/tensorflow/python/keras/engine/training.py\u001b[0m in \u001b[0;36m_method_wrapper\u001b[0;34m(self, *args, **kwargs)\u001b[0m\n\u001b[1;32m    106\u001b[0m   \u001b[0;32mdef\u001b[0m \u001b[0m_method_wrapper\u001b[0m\u001b[0;34m(\u001b[0m\u001b[0mself\u001b[0m\u001b[0;34m,\u001b[0m \u001b[0;34m*\u001b[0m\u001b[0margs\u001b[0m\u001b[0;34m,\u001b[0m \u001b[0;34m**\u001b[0m\u001b[0mkwargs\u001b[0m\u001b[0;34m)\u001b[0m\u001b[0;34m:\u001b[0m\u001b[0;34m\u001b[0m\u001b[0;34m\u001b[0m\u001b[0m\n\u001b[1;32m    107\u001b[0m     \u001b[0;32mif\u001b[0m \u001b[0;32mnot\u001b[0m \u001b[0mself\u001b[0m\u001b[0;34m.\u001b[0m\u001b[0m_in_multi_worker_mode\u001b[0m\u001b[0;34m(\u001b[0m\u001b[0;34m)\u001b[0m\u001b[0;34m:\u001b[0m  \u001b[0;31m# pylint: disable=protected-access\u001b[0m\u001b[0;34m\u001b[0m\u001b[0;34m\u001b[0m\u001b[0m\n\u001b[0;32m--> 108\u001b[0;31m       \u001b[0;32mreturn\u001b[0m \u001b[0mmethod\u001b[0m\u001b[0;34m(\u001b[0m\u001b[0mself\u001b[0m\u001b[0;34m,\u001b[0m \u001b[0;34m*\u001b[0m\u001b[0margs\u001b[0m\u001b[0;34m,\u001b[0m \u001b[0;34m**\u001b[0m\u001b[0mkwargs\u001b[0m\u001b[0;34m)\u001b[0m\u001b[0;34m\u001b[0m\u001b[0;34m\u001b[0m\u001b[0m\n\u001b[0m\u001b[1;32m    109\u001b[0m \u001b[0;34m\u001b[0m\u001b[0m\n\u001b[1;32m    110\u001b[0m     \u001b[0;31m# Running inside `run_distribute_coordinator` already.\u001b[0m\u001b[0;34m\u001b[0m\u001b[0;34m\u001b[0m\u001b[0;34m\u001b[0m\u001b[0m\n",
      "\u001b[0;32m/usr/local/lib/python3.6/dist-packages/tensorflow/python/keras/engine/training.py\u001b[0m in \u001b[0;36mfit\u001b[0;34m(self, x, y, batch_size, epochs, verbose, callbacks, validation_split, validation_data, shuffle, class_weight, sample_weight, initial_epoch, steps_per_epoch, validation_steps, validation_batch_size, validation_freq, max_queue_size, workers, use_multiprocessing)\u001b[0m\n\u001b[1;32m   1096\u001b[0m                 batch_size=batch_size):\n\u001b[1;32m   1097\u001b[0m               \u001b[0mcallbacks\u001b[0m\u001b[0;34m.\u001b[0m\u001b[0mon_train_batch_begin\u001b[0m\u001b[0;34m(\u001b[0m\u001b[0mstep\u001b[0m\u001b[0;34m)\u001b[0m\u001b[0;34m\u001b[0m\u001b[0;34m\u001b[0m\u001b[0m\n\u001b[0;32m-> 1098\u001b[0;31m               \u001b[0mtmp_logs\u001b[0m \u001b[0;34m=\u001b[0m \u001b[0mtrain_function\u001b[0m\u001b[0;34m(\u001b[0m\u001b[0miterator\u001b[0m\u001b[0;34m)\u001b[0m\u001b[0;34m\u001b[0m\u001b[0;34m\u001b[0m\u001b[0m\n\u001b[0m\u001b[1;32m   1099\u001b[0m               \u001b[0;32mif\u001b[0m \u001b[0mdata_handler\u001b[0m\u001b[0;34m.\u001b[0m\u001b[0mshould_sync\u001b[0m\u001b[0;34m:\u001b[0m\u001b[0;34m\u001b[0m\u001b[0;34m\u001b[0m\u001b[0m\n\u001b[1;32m   1100\u001b[0m                 \u001b[0mcontext\u001b[0m\u001b[0;34m.\u001b[0m\u001b[0masync_wait\u001b[0m\u001b[0;34m(\u001b[0m\u001b[0;34m)\u001b[0m\u001b[0;34m\u001b[0m\u001b[0;34m\u001b[0m\u001b[0m\n",
      "\u001b[0;32m/usr/local/lib/python3.6/dist-packages/tensorflow/python/eager/def_function.py\u001b[0m in \u001b[0;36m__call__\u001b[0;34m(self, *args, **kwds)\u001b[0m\n\u001b[1;32m    778\u001b[0m       \u001b[0;32melse\u001b[0m\u001b[0;34m:\u001b[0m\u001b[0;34m\u001b[0m\u001b[0;34m\u001b[0m\u001b[0m\n\u001b[1;32m    779\u001b[0m         \u001b[0mcompiler\u001b[0m \u001b[0;34m=\u001b[0m \u001b[0;34m\"nonXla\"\u001b[0m\u001b[0;34m\u001b[0m\u001b[0;34m\u001b[0m\u001b[0m\n\u001b[0;32m--> 780\u001b[0;31m         \u001b[0mresult\u001b[0m \u001b[0;34m=\u001b[0m \u001b[0mself\u001b[0m\u001b[0;34m.\u001b[0m\u001b[0m_call\u001b[0m\u001b[0;34m(\u001b[0m\u001b[0;34m*\u001b[0m\u001b[0margs\u001b[0m\u001b[0;34m,\u001b[0m \u001b[0;34m**\u001b[0m\u001b[0mkwds\u001b[0m\u001b[0;34m)\u001b[0m\u001b[0;34m\u001b[0m\u001b[0;34m\u001b[0m\u001b[0m\n\u001b[0m\u001b[1;32m    781\u001b[0m \u001b[0;34m\u001b[0m\u001b[0m\n\u001b[1;32m    782\u001b[0m       \u001b[0mnew_tracing_count\u001b[0m \u001b[0;34m=\u001b[0m \u001b[0mself\u001b[0m\u001b[0;34m.\u001b[0m\u001b[0m_get_tracing_count\u001b[0m\u001b[0;34m(\u001b[0m\u001b[0;34m)\u001b[0m\u001b[0;34m\u001b[0m\u001b[0;34m\u001b[0m\u001b[0m\n",
      "\u001b[0;32m/usr/local/lib/python3.6/dist-packages/tensorflow/python/eager/def_function.py\u001b[0m in \u001b[0;36m_call\u001b[0;34m(self, *args, **kwds)\u001b[0m\n\u001b[1;32m    805\u001b[0m       \u001b[0;31m# In this case we have created variables on the first call, so we run the\u001b[0m\u001b[0;34m\u001b[0m\u001b[0;34m\u001b[0m\u001b[0;34m\u001b[0m\u001b[0m\n\u001b[1;32m    806\u001b[0m       \u001b[0;31m# defunned version which is guaranteed to never create variables.\u001b[0m\u001b[0;34m\u001b[0m\u001b[0;34m\u001b[0m\u001b[0;34m\u001b[0m\u001b[0m\n\u001b[0;32m--> 807\u001b[0;31m       \u001b[0;32mreturn\u001b[0m \u001b[0mself\u001b[0m\u001b[0;34m.\u001b[0m\u001b[0m_stateless_fn\u001b[0m\u001b[0;34m(\u001b[0m\u001b[0;34m*\u001b[0m\u001b[0margs\u001b[0m\u001b[0;34m,\u001b[0m \u001b[0;34m**\u001b[0m\u001b[0mkwds\u001b[0m\u001b[0;34m)\u001b[0m  \u001b[0;31m# pylint: disable=not-callable\u001b[0m\u001b[0;34m\u001b[0m\u001b[0;34m\u001b[0m\u001b[0m\n\u001b[0m\u001b[1;32m    808\u001b[0m     \u001b[0;32melif\u001b[0m \u001b[0mself\u001b[0m\u001b[0;34m.\u001b[0m\u001b[0m_stateful_fn\u001b[0m \u001b[0;32mis\u001b[0m \u001b[0;32mnot\u001b[0m \u001b[0;32mNone\u001b[0m\u001b[0;34m:\u001b[0m\u001b[0;34m\u001b[0m\u001b[0;34m\u001b[0m\u001b[0m\n\u001b[1;32m    809\u001b[0m       \u001b[0;31m# Release the lock early so that multiple threads can perform the call\u001b[0m\u001b[0;34m\u001b[0m\u001b[0;34m\u001b[0m\u001b[0;34m\u001b[0m\u001b[0m\n",
      "\u001b[0;32m/usr/local/lib/python3.6/dist-packages/tensorflow/python/eager/function.py\u001b[0m in \u001b[0;36m__call__\u001b[0;34m(self, *args, **kwargs)\u001b[0m\n\u001b[1;32m   2827\u001b[0m     \u001b[0;32mwith\u001b[0m \u001b[0mself\u001b[0m\u001b[0;34m.\u001b[0m\u001b[0m_lock\u001b[0m\u001b[0;34m:\u001b[0m\u001b[0;34m\u001b[0m\u001b[0;34m\u001b[0m\u001b[0m\n\u001b[1;32m   2828\u001b[0m       \u001b[0mgraph_function\u001b[0m\u001b[0;34m,\u001b[0m \u001b[0margs\u001b[0m\u001b[0;34m,\u001b[0m \u001b[0mkwargs\u001b[0m \u001b[0;34m=\u001b[0m \u001b[0mself\u001b[0m\u001b[0;34m.\u001b[0m\u001b[0m_maybe_define_function\u001b[0m\u001b[0;34m(\u001b[0m\u001b[0margs\u001b[0m\u001b[0;34m,\u001b[0m \u001b[0mkwargs\u001b[0m\u001b[0;34m)\u001b[0m\u001b[0;34m\u001b[0m\u001b[0;34m\u001b[0m\u001b[0m\n\u001b[0;32m-> 2829\u001b[0;31m     \u001b[0;32mreturn\u001b[0m \u001b[0mgraph_function\u001b[0m\u001b[0;34m.\u001b[0m\u001b[0m_filtered_call\u001b[0m\u001b[0;34m(\u001b[0m\u001b[0margs\u001b[0m\u001b[0;34m,\u001b[0m \u001b[0mkwargs\u001b[0m\u001b[0;34m)\u001b[0m  \u001b[0;31m# pylint: disable=protected-access\u001b[0m\u001b[0;34m\u001b[0m\u001b[0;34m\u001b[0m\u001b[0m\n\u001b[0m\u001b[1;32m   2830\u001b[0m \u001b[0;34m\u001b[0m\u001b[0m\n\u001b[1;32m   2831\u001b[0m   \u001b[0;34m@\u001b[0m\u001b[0mproperty\u001b[0m\u001b[0;34m\u001b[0m\u001b[0;34m\u001b[0m\u001b[0m\n",
      "\u001b[0;32m/usr/local/lib/python3.6/dist-packages/tensorflow/python/eager/function.py\u001b[0m in \u001b[0;36m_filtered_call\u001b[0;34m(self, args, kwargs, cancellation_manager)\u001b[0m\n\u001b[1;32m   1846\u001b[0m                            resource_variable_ops.BaseResourceVariable))],\n\u001b[1;32m   1847\u001b[0m         \u001b[0mcaptured_inputs\u001b[0m\u001b[0;34m=\u001b[0m\u001b[0mself\u001b[0m\u001b[0;34m.\u001b[0m\u001b[0mcaptured_inputs\u001b[0m\u001b[0;34m,\u001b[0m\u001b[0;34m\u001b[0m\u001b[0;34m\u001b[0m\u001b[0m\n\u001b[0;32m-> 1848\u001b[0;31m         cancellation_manager=cancellation_manager)\n\u001b[0m\u001b[1;32m   1849\u001b[0m \u001b[0;34m\u001b[0m\u001b[0m\n\u001b[1;32m   1850\u001b[0m   \u001b[0;32mdef\u001b[0m \u001b[0m_call_flat\u001b[0m\u001b[0;34m(\u001b[0m\u001b[0mself\u001b[0m\u001b[0;34m,\u001b[0m \u001b[0margs\u001b[0m\u001b[0;34m,\u001b[0m \u001b[0mcaptured_inputs\u001b[0m\u001b[0;34m,\u001b[0m \u001b[0mcancellation_manager\u001b[0m\u001b[0;34m=\u001b[0m\u001b[0;32mNone\u001b[0m\u001b[0;34m)\u001b[0m\u001b[0;34m:\u001b[0m\u001b[0;34m\u001b[0m\u001b[0;34m\u001b[0m\u001b[0m\n",
      "\u001b[0;32m/usr/local/lib/python3.6/dist-packages/tensorflow/python/eager/function.py\u001b[0m in \u001b[0;36m_call_flat\u001b[0;34m(self, args, captured_inputs, cancellation_manager)\u001b[0m\n\u001b[1;32m   1922\u001b[0m       \u001b[0;31m# No tape is watching; skip to running the function.\u001b[0m\u001b[0;34m\u001b[0m\u001b[0;34m\u001b[0m\u001b[0;34m\u001b[0m\u001b[0m\n\u001b[1;32m   1923\u001b[0m       return self._build_call_outputs(self._inference_function.call(\n\u001b[0;32m-> 1924\u001b[0;31m           ctx, args, cancellation_manager=cancellation_manager))\n\u001b[0m\u001b[1;32m   1925\u001b[0m     forward_backward = self._select_forward_and_backward_functions(\n\u001b[1;32m   1926\u001b[0m         \u001b[0margs\u001b[0m\u001b[0;34m,\u001b[0m\u001b[0;34m\u001b[0m\u001b[0;34m\u001b[0m\u001b[0m\n",
      "\u001b[0;32m/usr/local/lib/python3.6/dist-packages/tensorflow/python/eager/function.py\u001b[0m in \u001b[0;36mcall\u001b[0;34m(self, ctx, args, cancellation_manager)\u001b[0m\n\u001b[1;32m    548\u001b[0m               \u001b[0minputs\u001b[0m\u001b[0;34m=\u001b[0m\u001b[0margs\u001b[0m\u001b[0;34m,\u001b[0m\u001b[0;34m\u001b[0m\u001b[0;34m\u001b[0m\u001b[0m\n\u001b[1;32m    549\u001b[0m               \u001b[0mattrs\u001b[0m\u001b[0;34m=\u001b[0m\u001b[0mattrs\u001b[0m\u001b[0;34m,\u001b[0m\u001b[0;34m\u001b[0m\u001b[0;34m\u001b[0m\u001b[0m\n\u001b[0;32m--> 550\u001b[0;31m               ctx=ctx)\n\u001b[0m\u001b[1;32m    551\u001b[0m         \u001b[0;32melse\u001b[0m\u001b[0;34m:\u001b[0m\u001b[0;34m\u001b[0m\u001b[0;34m\u001b[0m\u001b[0m\n\u001b[1;32m    552\u001b[0m           outputs = execute.execute_with_cancellation(\n",
      "\u001b[0;32m/usr/local/lib/python3.6/dist-packages/tensorflow/python/eager/execute.py\u001b[0m in \u001b[0;36mquick_execute\u001b[0;34m(op_name, num_outputs, inputs, attrs, ctx, name)\u001b[0m\n\u001b[1;32m     58\u001b[0m     \u001b[0mctx\u001b[0m\u001b[0;34m.\u001b[0m\u001b[0mensure_initialized\u001b[0m\u001b[0;34m(\u001b[0m\u001b[0;34m)\u001b[0m\u001b[0;34m\u001b[0m\u001b[0;34m\u001b[0m\u001b[0m\n\u001b[1;32m     59\u001b[0m     tensors = pywrap_tfe.TFE_Py_Execute(ctx._handle, device_name, op_name,\n\u001b[0;32m---> 60\u001b[0;31m                                         inputs, attrs, num_outputs)\n\u001b[0m\u001b[1;32m     61\u001b[0m   \u001b[0;32mexcept\u001b[0m \u001b[0mcore\u001b[0m\u001b[0;34m.\u001b[0m\u001b[0m_NotOkStatusException\u001b[0m \u001b[0;32mas\u001b[0m \u001b[0me\u001b[0m\u001b[0;34m:\u001b[0m\u001b[0;34m\u001b[0m\u001b[0;34m\u001b[0m\u001b[0m\n\u001b[1;32m     62\u001b[0m     \u001b[0;32mif\u001b[0m \u001b[0mname\u001b[0m \u001b[0;32mis\u001b[0m \u001b[0;32mnot\u001b[0m \u001b[0;32mNone\u001b[0m\u001b[0;34m:\u001b[0m\u001b[0;34m\u001b[0m\u001b[0;34m\u001b[0m\u001b[0m\n",
      "\u001b[0;31mInvalidArgumentError\u001b[0m: 2 root error(s) found.\n  (0) Invalid argument:  indices[114,199] = 25825 is not in [0, 25825)\n\t [[node sequential_1/embedding_1/embedding_lookup (defined at <ipython-input-42-9924b7a90816>:1) ]]\n\t [[Adam/Adam/update/AssignSubVariableOp/_253]]\n  (1) Invalid argument:  indices[114,199] = 25825 is not in [0, 25825)\n\t [[node sequential_1/embedding_1/embedding_lookup (defined at <ipython-input-42-9924b7a90816>:1) ]]\n0 successful operations.\n0 derived errors ignored. [Op:__inference_train_function_17367]\n\nErrors may have originated from an input operation.\nInput Source operations connected to node sequential_1/embedding_1/embedding_lookup:\n sequential_1/embedding_1/embedding_lookup/14122 (defined at /usr/lib/python3.6/contextlib.py:81)\n\nInput Source operations connected to node sequential_1/embedding_1/embedding_lookup:\n sequential_1/embedding_1/embedding_lookup/14122 (defined at /usr/lib/python3.6/contextlib.py:81)\n\nFunction call stack:\ntrain_function -> train_function\n"
     ]
    }
   ],
   "source": [
    "model.fit(x_train, y_train, batch_size = batch_size , validation_data = (X_test,y_test) , epochs = 2)"
   ]
  },
  {
   "cell_type": "markdown",
   "metadata": {
    "colab_type": "text",
    "id": "BHs3vD6elut8"
   },
   "source": [
    "# Note:\n",
    "    I am getting this error, when I tried to debug i came across a link which says, this is a bug and can be overcome by changing batchsize . I have tried (8,16,32) batch sizes but still getting the same error. So the model is partially trained but still getting an accuracy of 83% on Test data.\n",
    "\n",
    "    Link : https://stackoverflow.com/questions/60082554/tensorflow-throwing-distributed-function-error"
   ]
  },
  {
   "cell_type": "code",
   "execution_count": 43,
   "metadata": {
    "colab": {
     "base_uri": "https://localhost:8080/",
     "height": 51
    },
    "colab_type": "code",
    "id": "FwjC3jM7qO_i",
    "outputId": "bcd738fc-235e-4236-d9f2-6769b5ed1c74"
   },
   "outputs": [
    {
     "name": "stdout",
     "output_type": "stream",
     "text": [
      "269/269 [==============================] - 25s 92ms/step - loss: 0.3921 - acc: 0.8316\n",
      "Accuracy of the model on Testing Data is -  83.15863013267517\n"
     ]
    }
   ],
   "source": [
    "print(\"Accuracy of the model on Testing Data is - \" , model.evaluate(X_test,y_test)[1]*100)"
   ]
  },
  {
   "cell_type": "code",
   "execution_count": 44,
   "metadata": {
    "colab": {
     "base_uri": "https://localhost:8080/",
     "height": 193
    },
    "colab_type": "code",
    "id": "-4ZLIW34o6SW",
    "outputId": "c6af6be5-73ae-46d7-d35b-9f16a9b71d02"
   },
   "outputs": [
    {
     "name": "stdout",
     "output_type": "stream",
     "text": [
      "WARNING:tensorflow:From <ipython-input-44-bb361e7f7385>:1: Sequential.predict_classes (from tensorflow.python.keras.engine.sequential) is deprecated and will be removed after 2021-01-01.\n",
      "Instructions for updating:\n",
      "Please use instead:* `np.argmax(model.predict(x), axis=-1)`,   if your model does multi-class classification   (e.g. if it uses a `softmax` last-layer activation).* `(model.predict(x) > 0.5).astype(\"int32\")`,   if your model does binary classification   (e.g. if it uses a `sigmoid` last-layer activation).\n"
     ]
    },
    {
     "data": {
      "text/plain": [
       "array([[1],\n",
       "       [0],\n",
       "       [1],\n",
       "       [0],\n",
       "       [1]], dtype=int32)"
      ]
     },
     "execution_count": 44,
     "metadata": {
      "tags": []
     },
     "output_type": "execute_result"
    }
   ],
   "source": [
    "pred = model.predict_classes(X_test)\n",
    "pred[:5]"
   ]
  },
  {
   "cell_type": "code",
   "execution_count": 45,
   "metadata": {
    "colab": {
     "base_uri": "https://localhost:8080/",
     "height": 170
    },
    "colab_type": "code",
    "id": "TNjo9SR9ut8N",
    "outputId": "48406ae7-1d16-454e-9369-8cc630691cff"
   },
   "outputs": [
    {
     "name": "stdout",
     "output_type": "stream",
     "text": [
      "               precision    recall  f1-score   support\n",
      "\n",
      "Not Sarcastic       0.82      0.87      0.85      4560\n",
      "    Sarcastic       0.84      0.79      0.81      4026\n",
      "\n",
      "     accuracy                           0.83      8586\n",
      "    macro avg       0.83      0.83      0.83      8586\n",
      " weighted avg       0.83      0.83      0.83      8586\n",
      "\n"
     ]
    }
   ],
   "source": [
    "print(classification_report(y_test, pred, target_names = ['Not Sarcastic','Sarcastic']))"
   ]
  },
  {
   "cell_type": "code",
   "execution_count": 46,
   "metadata": {
    "colab": {
     "base_uri": "https://localhost:8080/",
     "height": 51
    },
    "colab_type": "code",
    "id": "qwtNOM1ovKo-",
    "outputId": "fd97e55c-8ff4-460e-fe11-810239358038"
   },
   "outputs": [
    {
     "data": {
      "text/plain": [
       "array([[3968,  592],\n",
       "       [ 854, 3172]])"
      ]
     },
     "execution_count": 46,
     "metadata": {
      "tags": []
     },
     "output_type": "execute_result"
    }
   ],
   "source": [
    "cm = confusion_matrix(y_test,pred)\n",
    "cm"
   ]
  },
  {
   "cell_type": "code",
   "execution_count": 47,
   "metadata": {
    "colab": {
     "base_uri": "https://localhost:8080/",
     "height": 609
    },
    "colab_type": "code",
    "id": "Lu-P8oP2vOp4",
    "outputId": "0b217a4a-e712-422b-c462-1e6dfa1dbe47"
   },
   "outputs": [
    {
     "data": {
      "text/plain": [
       "<matplotlib.axes._subplots.AxesSubplot at 0x7f4a8a5c19b0>"
      ]
     },
     "execution_count": 47,
     "metadata": {
      "tags": []
     },
     "output_type": "execute_result"
    },
    {
     "data": {
      "image/png": "[encoded data removed]",
      "text/plain": [
       "<Figure size 720x720 with 2 Axes>"
      ]
     },
     "metadata": {
      "tags": []
     },
     "output_type": "display_data"
    }
   ],
   "source": [
    "cm = pd.DataFrame(cm , index = ['Not Sarcastic','Sarcastic'] , columns = ['Not Sarcastic','Sarcastic'])\n",
    "plt.figure(figsize = (10,10))\n",
    "sns.heatmap(cm,cmap= \"Blues\", linecolor = 'black' , linewidth = 1 , annot = True, fmt='' , xticklabels = ['Not Sarcastic','Sarcastic'] , yticklabels = ['Not Sarcastic','Sarcastic'])"
   ]
  },
  {
   "cell_type": "code",
   "execution_count": null,
   "metadata": {
    "colab": {},
    "colab_type": "code",
    "id": "2sqezW18vRhN"
   },
   "outputs": [],
   "source": []
  }
 ],
 "metadata": {
  "accelerator": "GPU",
  "colab": {
   "collapsed_sections": [],
   "name": " Sequential Models in NLP - Sarcasm Detection.ipynb",
   "provenance": []
  },
  "kernelspec": {
   "display_name": "Python 3",
   "language": "python",
   "name": "python3"
  },
  "language_info": {
   "codemirror_mode": {
    "name": "ipython",
    "version": 3
   },
   "file_extension": ".py",
   "mimetype": "text/x-python",
   "name": "python",
   "nbconvert_exporter": "python",
   "pygments_lexer": "ipython3",
   "version": "3.7.6"
  }
 },
 "nbformat": 4,
 "nbformat_minor": 1
}
